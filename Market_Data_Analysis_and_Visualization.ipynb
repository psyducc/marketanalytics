{
  "nbformat": 4,
  "nbformat_minor": 0,
  "metadata": {
    "colab": {
      "name": "Market Data Analysis and Visualization.ipynb",
      "provenance": [],
      "authorship_tag": "ABX9TyPQaWNZF1JdVHXQo61l+2su",
      "include_colab_link": true
    },
    "kernelspec": {
      "name": "python3",
      "display_name": "Python 3"
    },
    "language_info": {
      "name": "python"
    }
  },
  "cells": [
    {
      "cell_type": "markdown",
      "metadata": {
        "id": "view-in-github",
        "colab_type": "text"
      },
      "source": [
        "<a href=\"https://colab.research.google.com/github/psyducc/marketanalytics/blob/main/Market_Data_Analysis_and_Visualization.ipynb\" target=\"_parent\"><img src=\"https://colab.research.google.com/assets/colab-badge.svg\" alt=\"Open In Colab\"/></a>"
      ]
    },
    {
      "cell_type": "markdown",
      "metadata": {
        "id": "9MZTIXbToiei"
      },
      "source": [
        "Notebook ini merupakan analisa dan eksplorasi dari dataset \"Marketing Analytics\" yang diupload oleh Jack Daoud pada website kaggle.com\n",
        "\n",
        "link dataset : https://www.kaggle.com/jackdaoud/marketing-data"
      ]
    },
    {
      "cell_type": "code",
      "metadata": {
        "id": "hOo5Er7DSfUf"
      },
      "source": [
        "import pandas as pd\n",
        "import numpy as np\n",
        "import os \n",
        "import seaborn as sns\n",
        "import matplotlib.pyplot as plt"
      ],
      "execution_count": 1,
      "outputs": []
    },
    {
      "cell_type": "code",
      "metadata": {
        "colab": {
          "base_uri": "https://localhost:8080/"
        },
        "id": "CtfQC-FyS7ZJ",
        "outputId": "155d1f57-faf5-4e75-dce0-7b8695498ebc"
      },
      "source": [
        "from google.colab import drive\n",
        "drive.mount('/content/gdrive')"
      ],
      "execution_count": 2,
      "outputs": [
        {
          "output_type": "stream",
          "name": "stdout",
          "text": [
            "Mounted at /content/gdrive\n"
          ]
        }
      ]
    },
    {
      "cell_type": "code",
      "metadata": {
        "colab": {
          "base_uri": "https://localhost:8080/"
        },
        "id": "F6ZUAEWtS_pq",
        "outputId": "740f6b0b-f881-4c97-e798-27c0628ccf00"
      },
      "source": [
        "os.chdir('/content/gdrive/My Drive/Colab Notebooks')\n",
        "!pwd"
      ],
      "execution_count": 3,
      "outputs": [
        {
          "output_type": "stream",
          "name": "stdout",
          "text": [
            "/content/gdrive/My Drive/Colab Notebooks\n"
          ]
        }
      ]
    },
    {
      "cell_type": "code",
      "metadata": {
        "id": "TGE1I7vnTFD0"
      },
      "source": [
        "df = pd.read_csv('marketing_data.csv')"
      ],
      "execution_count": 4,
      "outputs": []
    },
    {
      "cell_type": "code",
      "metadata": {
        "colab": {
          "base_uri": "https://localhost:8080/",
          "height": 224
        },
        "id": "ZkSt51zQTGZt",
        "outputId": "5cb6cdab-d489-4d1b-f925-3192b6c5f714"
      },
      "source": [
        "df.head()"
      ],
      "execution_count": 5,
      "outputs": [
        {
          "output_type": "execute_result",
          "data": {
            "text/html": [
              "<div>\n",
              "<style scoped>\n",
              "    .dataframe tbody tr th:only-of-type {\n",
              "        vertical-align: middle;\n",
              "    }\n",
              "\n",
              "    .dataframe tbody tr th {\n",
              "        vertical-align: top;\n",
              "    }\n",
              "\n",
              "    .dataframe thead th {\n",
              "        text-align: right;\n",
              "    }\n",
              "</style>\n",
              "<table border=\"1\" class=\"dataframe\">\n",
              "  <thead>\n",
              "    <tr style=\"text-align: right;\">\n",
              "      <th></th>\n",
              "      <th>ID</th>\n",
              "      <th>Year_Birth</th>\n",
              "      <th>Education</th>\n",
              "      <th>Marital_Status</th>\n",
              "      <th>Income</th>\n",
              "      <th>Kidhome</th>\n",
              "      <th>Teenhome</th>\n",
              "      <th>Dt_Customer</th>\n",
              "      <th>Recency</th>\n",
              "      <th>MntWines</th>\n",
              "      <th>MntFruits</th>\n",
              "      <th>MntMeatProducts</th>\n",
              "      <th>MntFishProducts</th>\n",
              "      <th>MntSweetProducts</th>\n",
              "      <th>MntGoldProds</th>\n",
              "      <th>NumDealsPurchases</th>\n",
              "      <th>NumWebPurchases</th>\n",
              "      <th>NumCatalogPurchases</th>\n",
              "      <th>NumStorePurchases</th>\n",
              "      <th>NumWebVisitsMonth</th>\n",
              "      <th>AcceptedCmp3</th>\n",
              "      <th>AcceptedCmp4</th>\n",
              "      <th>AcceptedCmp5</th>\n",
              "      <th>AcceptedCmp1</th>\n",
              "      <th>AcceptedCmp2</th>\n",
              "      <th>Response</th>\n",
              "      <th>Complain</th>\n",
              "      <th>Country</th>\n",
              "    </tr>\n",
              "  </thead>\n",
              "  <tbody>\n",
              "    <tr>\n",
              "      <th>0</th>\n",
              "      <td>1826</td>\n",
              "      <td>1970</td>\n",
              "      <td>Graduation</td>\n",
              "      <td>Divorced</td>\n",
              "      <td>$84,835.00</td>\n",
              "      <td>0</td>\n",
              "      <td>0</td>\n",
              "      <td>6/16/14</td>\n",
              "      <td>0</td>\n",
              "      <td>189</td>\n",
              "      <td>104</td>\n",
              "      <td>379</td>\n",
              "      <td>111</td>\n",
              "      <td>189</td>\n",
              "      <td>218</td>\n",
              "      <td>1</td>\n",
              "      <td>4</td>\n",
              "      <td>4</td>\n",
              "      <td>6</td>\n",
              "      <td>1</td>\n",
              "      <td>0</td>\n",
              "      <td>0</td>\n",
              "      <td>0</td>\n",
              "      <td>0</td>\n",
              "      <td>0</td>\n",
              "      <td>1</td>\n",
              "      <td>0</td>\n",
              "      <td>SP</td>\n",
              "    </tr>\n",
              "    <tr>\n",
              "      <th>1</th>\n",
              "      <td>1</td>\n",
              "      <td>1961</td>\n",
              "      <td>Graduation</td>\n",
              "      <td>Single</td>\n",
              "      <td>$57,091.00</td>\n",
              "      <td>0</td>\n",
              "      <td>0</td>\n",
              "      <td>6/15/14</td>\n",
              "      <td>0</td>\n",
              "      <td>464</td>\n",
              "      <td>5</td>\n",
              "      <td>64</td>\n",
              "      <td>7</td>\n",
              "      <td>0</td>\n",
              "      <td>37</td>\n",
              "      <td>1</td>\n",
              "      <td>7</td>\n",
              "      <td>3</td>\n",
              "      <td>7</td>\n",
              "      <td>5</td>\n",
              "      <td>0</td>\n",
              "      <td>0</td>\n",
              "      <td>0</td>\n",
              "      <td>0</td>\n",
              "      <td>1</td>\n",
              "      <td>1</td>\n",
              "      <td>0</td>\n",
              "      <td>CA</td>\n",
              "    </tr>\n",
              "    <tr>\n",
              "      <th>2</th>\n",
              "      <td>10476</td>\n",
              "      <td>1958</td>\n",
              "      <td>Graduation</td>\n",
              "      <td>Married</td>\n",
              "      <td>$67,267.00</td>\n",
              "      <td>0</td>\n",
              "      <td>1</td>\n",
              "      <td>5/13/14</td>\n",
              "      <td>0</td>\n",
              "      <td>134</td>\n",
              "      <td>11</td>\n",
              "      <td>59</td>\n",
              "      <td>15</td>\n",
              "      <td>2</td>\n",
              "      <td>30</td>\n",
              "      <td>1</td>\n",
              "      <td>3</td>\n",
              "      <td>2</td>\n",
              "      <td>5</td>\n",
              "      <td>2</td>\n",
              "      <td>0</td>\n",
              "      <td>0</td>\n",
              "      <td>0</td>\n",
              "      <td>0</td>\n",
              "      <td>0</td>\n",
              "      <td>0</td>\n",
              "      <td>0</td>\n",
              "      <td>US</td>\n",
              "    </tr>\n",
              "    <tr>\n",
              "      <th>3</th>\n",
              "      <td>1386</td>\n",
              "      <td>1967</td>\n",
              "      <td>Graduation</td>\n",
              "      <td>Together</td>\n",
              "      <td>$32,474.00</td>\n",
              "      <td>1</td>\n",
              "      <td>1</td>\n",
              "      <td>5/11/14</td>\n",
              "      <td>0</td>\n",
              "      <td>10</td>\n",
              "      <td>0</td>\n",
              "      <td>1</td>\n",
              "      <td>0</td>\n",
              "      <td>0</td>\n",
              "      <td>0</td>\n",
              "      <td>1</td>\n",
              "      <td>1</td>\n",
              "      <td>0</td>\n",
              "      <td>2</td>\n",
              "      <td>7</td>\n",
              "      <td>0</td>\n",
              "      <td>0</td>\n",
              "      <td>0</td>\n",
              "      <td>0</td>\n",
              "      <td>0</td>\n",
              "      <td>0</td>\n",
              "      <td>0</td>\n",
              "      <td>AUS</td>\n",
              "    </tr>\n",
              "    <tr>\n",
              "      <th>4</th>\n",
              "      <td>5371</td>\n",
              "      <td>1989</td>\n",
              "      <td>Graduation</td>\n",
              "      <td>Single</td>\n",
              "      <td>$21,474.00</td>\n",
              "      <td>1</td>\n",
              "      <td>0</td>\n",
              "      <td>4/8/14</td>\n",
              "      <td>0</td>\n",
              "      <td>6</td>\n",
              "      <td>16</td>\n",
              "      <td>24</td>\n",
              "      <td>11</td>\n",
              "      <td>0</td>\n",
              "      <td>34</td>\n",
              "      <td>2</td>\n",
              "      <td>3</td>\n",
              "      <td>1</td>\n",
              "      <td>2</td>\n",
              "      <td>7</td>\n",
              "      <td>1</td>\n",
              "      <td>0</td>\n",
              "      <td>0</td>\n",
              "      <td>0</td>\n",
              "      <td>0</td>\n",
              "      <td>1</td>\n",
              "      <td>0</td>\n",
              "      <td>SP</td>\n",
              "    </tr>\n",
              "  </tbody>\n",
              "</table>\n",
              "</div>"
            ],
            "text/plain": [
              "      ID  Year_Birth   Education  ... Response Complain  Country\n",
              "0   1826        1970  Graduation  ...        1        0       SP\n",
              "1      1        1961  Graduation  ...        1        0       CA\n",
              "2  10476        1958  Graduation  ...        0        0       US\n",
              "3   1386        1967  Graduation  ...        0        0      AUS\n",
              "4   5371        1989  Graduation  ...        1        0       SP\n",
              "\n",
              "[5 rows x 28 columns]"
            ]
          },
          "metadata": {},
          "execution_count": 5
        }
      ]
    },
    {
      "cell_type": "code",
      "metadata": {
        "colab": {
          "base_uri": "https://localhost:8080/"
        },
        "id": "EF4WipLkTIAM",
        "outputId": "2ca54444-e04c-42e8-d7b0-2e6a051472a6"
      },
      "source": [
        "df.info()"
      ],
      "execution_count": 6,
      "outputs": [
        {
          "output_type": "stream",
          "name": "stdout",
          "text": [
            "<class 'pandas.core.frame.DataFrame'>\n",
            "RangeIndex: 2240 entries, 0 to 2239\n",
            "Data columns (total 28 columns):\n",
            " #   Column               Non-Null Count  Dtype \n",
            "---  ------               --------------  ----- \n",
            " 0   ID                   2240 non-null   int64 \n",
            " 1   Year_Birth           2240 non-null   int64 \n",
            " 2   Education            2240 non-null   object\n",
            " 3   Marital_Status       2240 non-null   object\n",
            " 4    Income              2216 non-null   object\n",
            " 5   Kidhome              2240 non-null   int64 \n",
            " 6   Teenhome             2240 non-null   int64 \n",
            " 7   Dt_Customer          2240 non-null   object\n",
            " 8   Recency              2240 non-null   int64 \n",
            " 9   MntWines             2240 non-null   int64 \n",
            " 10  MntFruits            2240 non-null   int64 \n",
            " 11  MntMeatProducts      2240 non-null   int64 \n",
            " 12  MntFishProducts      2240 non-null   int64 \n",
            " 13  MntSweetProducts     2240 non-null   int64 \n",
            " 14  MntGoldProds         2240 non-null   int64 \n",
            " 15  NumDealsPurchases    2240 non-null   int64 \n",
            " 16  NumWebPurchases      2240 non-null   int64 \n",
            " 17  NumCatalogPurchases  2240 non-null   int64 \n",
            " 18  NumStorePurchases    2240 non-null   int64 \n",
            " 19  NumWebVisitsMonth    2240 non-null   int64 \n",
            " 20  AcceptedCmp3         2240 non-null   int64 \n",
            " 21  AcceptedCmp4         2240 non-null   int64 \n",
            " 22  AcceptedCmp5         2240 non-null   int64 \n",
            " 23  AcceptedCmp1         2240 non-null   int64 \n",
            " 24  AcceptedCmp2         2240 non-null   int64 \n",
            " 25  Response             2240 non-null   int64 \n",
            " 26  Complain             2240 non-null   int64 \n",
            " 27  Country              2240 non-null   object\n",
            "dtypes: int64(23), object(5)\n",
            "memory usage: 490.1+ KB\n"
          ]
        }
      ]
    },
    {
      "cell_type": "markdown",
      "metadata": {
        "id": "yfganOPyTMyM"
      },
      "source": [
        "Keanehan pada kolom\n",
        "1. penulisan ' income' pakai spasi\n",
        "2. tipe data pada 'Dt_time'\n",
        "3. menghapus tanda '$' pada 'income' dan merubah ke float"
      ]
    },
    {
      "cell_type": "code",
      "metadata": {
        "id": "aptyrPgmTJzl"
      },
      "source": [
        "# Hapus spasi\n",
        "df.columns = df.columns.str.replace(' ', '')\n",
        "# Ubah tipe data Dt_time\n",
        "df['Dt_Customer']= pd.to_datetime(df['Dt_Customer'])\n",
        "# Perbaikan variabel 'income'\n",
        "df['Income'] = df['Income'].str.replace('$', '')\n",
        "df['Income'] = df['Income'].str.replace(',', '').astype('float')"
      ],
      "execution_count": 7,
      "outputs": []
    },
    {
      "cell_type": "code",
      "metadata": {
        "colab": {
          "base_uri": "https://localhost:8080/"
        },
        "id": "SLzmu1mDTOwH",
        "outputId": "fb3fc115-f4ca-4d8e-c603-93b81cf33911"
      },
      "source": [
        "df.info()"
      ],
      "execution_count": 8,
      "outputs": [
        {
          "output_type": "stream",
          "name": "stdout",
          "text": [
            "<class 'pandas.core.frame.DataFrame'>\n",
            "RangeIndex: 2240 entries, 0 to 2239\n",
            "Data columns (total 28 columns):\n",
            " #   Column               Non-Null Count  Dtype         \n",
            "---  ------               --------------  -----         \n",
            " 0   ID                   2240 non-null   int64         \n",
            " 1   Year_Birth           2240 non-null   int64         \n",
            " 2   Education            2240 non-null   object        \n",
            " 3   Marital_Status       2240 non-null   object        \n",
            " 4   Income               2216 non-null   float64       \n",
            " 5   Kidhome              2240 non-null   int64         \n",
            " 6   Teenhome             2240 non-null   int64         \n",
            " 7   Dt_Customer          2240 non-null   datetime64[ns]\n",
            " 8   Recency              2240 non-null   int64         \n",
            " 9   MntWines             2240 non-null   int64         \n",
            " 10  MntFruits            2240 non-null   int64         \n",
            " 11  MntMeatProducts      2240 non-null   int64         \n",
            " 12  MntFishProducts      2240 non-null   int64         \n",
            " 13  MntSweetProducts     2240 non-null   int64         \n",
            " 14  MntGoldProds         2240 non-null   int64         \n",
            " 15  NumDealsPurchases    2240 non-null   int64         \n",
            " 16  NumWebPurchases      2240 non-null   int64         \n",
            " 17  NumCatalogPurchases  2240 non-null   int64         \n",
            " 18  NumStorePurchases    2240 non-null   int64         \n",
            " 19  NumWebVisitsMonth    2240 non-null   int64         \n",
            " 20  AcceptedCmp3         2240 non-null   int64         \n",
            " 21  AcceptedCmp4         2240 non-null   int64         \n",
            " 22  AcceptedCmp5         2240 non-null   int64         \n",
            " 23  AcceptedCmp1         2240 non-null   int64         \n",
            " 24  AcceptedCmp2         2240 non-null   int64         \n",
            " 25  Response             2240 non-null   int64         \n",
            " 26  Complain             2240 non-null   int64         \n",
            " 27  Country              2240 non-null   object        \n",
            "dtypes: datetime64[ns](1), float64(1), int64(23), object(3)\n",
            "memory usage: 490.1+ KB\n"
          ]
        }
      ]
    },
    {
      "cell_type": "markdown",
      "metadata": {
        "id": "GVblF-cyTVbK"
      },
      "source": [
        "# **Cek null value**"
      ]
    },
    {
      "cell_type": "code",
      "metadata": {
        "colab": {
          "base_uri": "https://localhost:8080/"
        },
        "id": "ft1HJtfETQPX",
        "outputId": "88a66571-8f32-447b-e619-def36033a57f"
      },
      "source": [
        "# cek null values pada tiap kolom\n",
        "df.isna().sum()"
      ],
      "execution_count": 68,
      "outputs": [
        {
          "output_type": "execute_result",
          "data": {
            "text/plain": [
              "ID                     0\n",
              "Year_Birth             0\n",
              "Education              0\n",
              "Marital_Status         0\n",
              "Income                 0\n",
              "Kidhome                0\n",
              "Teenhome               0\n",
              "Dt_Customer            0\n",
              "Recency                0\n",
              "MntWines               0\n",
              "MntFruits              0\n",
              "MntMeatProducts        0\n",
              "MntFishProducts        0\n",
              "MntSweetProducts       0\n",
              "MntGoldProds           0\n",
              "NumDealsPurchases      0\n",
              "NumWebPurchases        0\n",
              "NumCatalogPurchases    0\n",
              "NumStorePurchases      0\n",
              "NumWebVisitsMonth      0\n",
              "AcceptedCmp3           0\n",
              "AcceptedCmp4           0\n",
              "AcceptedCmp5           0\n",
              "AcceptedCmp1           0\n",
              "AcceptedCmp2           0\n",
              "Response               0\n",
              "Complain               0\n",
              "Country                0\n",
              "dtype: int64"
            ]
          },
          "metadata": {},
          "execution_count": 68
        }
      ]
    },
    {
      "cell_type": "markdown",
      "metadata": {
        "id": "RncwOMcyTa4A"
      },
      "source": [
        "Ada 24 null values pada kolom 'Income'. Coba kita cek distribusi dari 'Income'."
      ]
    },
    {
      "cell_type": "code",
      "metadata": {
        "colab": {
          "base_uri": "https://localhost:8080/",
          "height": 351
        },
        "id": "QVPps2bATYHj",
        "outputId": "44ee1822-2aca-4b3b-bb33-8dd34f4cd8fb"
      },
      "source": [
        "# pembuatan histogram\n",
        "plt.figure(figsize=(8,4))\n",
        "sns.distplot(df['Income'], kde=False, hist=True)\n",
        "plt.title('Income distribution', size=16)\n",
        "plt.ylabel('count');"
      ],
      "execution_count": 69,
      "outputs": [
        {
          "output_type": "stream",
          "name": "stderr",
          "text": [
            "/usr/local/lib/python3.7/dist-packages/seaborn/distributions.py:2557: FutureWarning: `distplot` is a deprecated function and will be removed in a future version. Please adapt your code to use either `displot` (a figure-level function with similar flexibility) or `histplot` (an axes-level function for histograms).\n",
            "  warnings.warn(msg, FutureWarning)\n"
          ]
        },
        {
          "output_type": "display_data",
          "data": {
            "image/png": "[encoded data removed]",
            "text/plain": [
              "<Figure size 576x288 with 1 Axes>"
            ]
          },
          "metadata": {
            "needs_background": "light"
          }
        }
      ]
    },
    {
      "cell_type": "code",
      "metadata": {
        "colab": {
          "base_uri": "https://localhost:8080/",
          "height": 282
        },
        "id": "-5IF36z0Thmv",
        "outputId": "625127d5-116f-42b8-94f8-7a56839f6da3"
      },
      "source": [
        "# pembuatan boxplot\n",
        "df['Income'].plot(kind='box', figsize=(3,4))"
      ],
      "execution_count": 70,
      "outputs": [
        {
          "output_type": "execute_result",
          "data": {
            "text/plain": [
              "<matplotlib.axes._subplots.AxesSubplot at 0x7f49de5e9610>"
            ]
          },
          "metadata": {},
          "execution_count": 70
        },
        {
          "output_type": "display_data",
          "data": {
            "image/png": "[encoded data removed]",
            "text/plain": [
              "<Figure size 216x288 with 1 Axes>"
            ]
          },
          "metadata": {
            "needs_background": "light"
          }
        }
      ]
    },
    {
      "cell_type": "markdown",
      "metadata": {
        "id": "fuDdZ-QWTmng"
      },
      "source": [
        "Kolom ini memiliki beberapa outlier. Jadi kita akan menggantikan null values pada kolom ini menjadi median nya."
      ]
    },
    {
      "cell_type": "code",
      "metadata": {
        "colab": {
          "base_uri": "https://localhost:8080/"
        },
        "id": "Kym3-RjtTkO5",
        "outputId": "361fcff0-f94d-4694-e43b-63261af5ee3a"
      },
      "source": [
        "# median dari 'Income'\n",
        "med_income = df['Income'].median()\n",
        "med_income"
      ],
      "execution_count": 71,
      "outputs": [
        {
          "output_type": "execute_result",
          "data": {
            "text/plain": [
              "51381.5"
            ]
          },
          "metadata": {},
          "execution_count": 71
        }
      ]
    },
    {
      "cell_type": "code",
      "metadata": {
        "id": "hj_jbbxUTost"
      },
      "source": [
        "# Ganti null values menjadi median\n",
        "df['Income'] = df['Income'].fillna(med_income)"
      ],
      "execution_count": 72,
      "outputs": []
    },
    {
      "cell_type": "markdown",
      "metadata": {
        "id": "w6pSsz4RT5DY"
      },
      "source": [
        "# **Pembagian Data**"
      ]
    },
    {
      "cell_type": "markdown",
      "metadata": {
        "id": "nUH-DGiLUMrN"
      },
      "source": [
        "Sebelum dilakukan eksplorasi lebih jauh, data akan dibagi menjadi 2:\n",
        "1. Data categorical berupa data string\n",
        "2. Data numerical berupa data numeric integer atau float"
      ]
    },
    {
      "cell_type": "code",
      "metadata": {
        "id": "IaXDWLzfUL7N"
      },
      "source": [
        "# pembuatan dataframe untuk data categorical\n",
        "df_cat = df.loc[:,df.dtypes==np.object]\n",
        "num = ['Year_Birth','Income','Dt_Customer', 'Recency', 'MntWines', 'MntFruits',\n",
        "       'MntMeatProducts', 'MntFishProducts', 'MntSweetProducts',\n",
        "       'MntGoldProds', 'NumDealsPurchases', 'NumWebPurchases',\n",
        "       'NumCatalogPurchases', 'NumStorePurchases', 'NumWebVisitsMonth']\n",
        "\n",
        "# pembuatan dataframe untuk data numerical\n",
        "df_num = df[num]"
      ],
      "execution_count": 73,
      "outputs": []
    },
    {
      "cell_type": "code",
      "metadata": {
        "colab": {
          "base_uri": "https://localhost:8080/",
          "height": 204
        },
        "id": "m1PYo1mkUwAi",
        "outputId": "b954831e-e321-49c4-a742-cdd0ef03d99c"
      },
      "source": [
        "df_cat.head()"
      ],
      "execution_count": 28,
      "outputs": [
        {
          "output_type": "execute_result",
          "data": {
            "text/html": [
              "<div>\n",
              "<style scoped>\n",
              "    .dataframe tbody tr th:only-of-type {\n",
              "        vertical-align: middle;\n",
              "    }\n",
              "\n",
              "    .dataframe tbody tr th {\n",
              "        vertical-align: top;\n",
              "    }\n",
              "\n",
              "    .dataframe thead th {\n",
              "        text-align: right;\n",
              "    }\n",
              "</style>\n",
              "<table border=\"1\" class=\"dataframe\">\n",
              "  <thead>\n",
              "    <tr style=\"text-align: right;\">\n",
              "      <th></th>\n",
              "      <th>Education</th>\n",
              "      <th>Marital_Status</th>\n",
              "      <th>Country</th>\n",
              "    </tr>\n",
              "  </thead>\n",
              "  <tbody>\n",
              "    <tr>\n",
              "      <th>0</th>\n",
              "      <td>Graduation</td>\n",
              "      <td>Divorced</td>\n",
              "      <td>SP</td>\n",
              "    </tr>\n",
              "    <tr>\n",
              "      <th>1</th>\n",
              "      <td>Graduation</td>\n",
              "      <td>Single</td>\n",
              "      <td>CA</td>\n",
              "    </tr>\n",
              "    <tr>\n",
              "      <th>2</th>\n",
              "      <td>Graduation</td>\n",
              "      <td>Married</td>\n",
              "      <td>US</td>\n",
              "    </tr>\n",
              "    <tr>\n",
              "      <th>3</th>\n",
              "      <td>Graduation</td>\n",
              "      <td>Together</td>\n",
              "      <td>AUS</td>\n",
              "    </tr>\n",
              "    <tr>\n",
              "      <th>4</th>\n",
              "      <td>Graduation</td>\n",
              "      <td>Single</td>\n",
              "      <td>SP</td>\n",
              "    </tr>\n",
              "  </tbody>\n",
              "</table>\n",
              "</div>"
            ],
            "text/plain": [
              "    Education Marital_Status Country\n",
              "0  Graduation       Divorced      SP\n",
              "1  Graduation         Single      CA\n",
              "2  Graduation        Married      US\n",
              "3  Graduation       Together     AUS\n",
              "4  Graduation         Single      SP"
            ]
          },
          "metadata": {},
          "execution_count": 28
        }
      ]
    },
    {
      "cell_type": "code",
      "metadata": {
        "colab": {
          "base_uri": "https://localhost:8080/",
          "height": 224
        },
        "id": "4J4sMRlqU0bu",
        "outputId": "7180e638-a632-4354-e130-18e2c9fa44bd"
      },
      "source": [
        "df_num.head()"
      ],
      "execution_count": 29,
      "outputs": [
        {
          "output_type": "execute_result",
          "data": {
            "text/html": [
              "<div>\n",
              "<style scoped>\n",
              "    .dataframe tbody tr th:only-of-type {\n",
              "        vertical-align: middle;\n",
              "    }\n",
              "\n",
              "    .dataframe tbody tr th {\n",
              "        vertical-align: top;\n",
              "    }\n",
              "\n",
              "    .dataframe thead th {\n",
              "        text-align: right;\n",
              "    }\n",
              "</style>\n",
              "<table border=\"1\" class=\"dataframe\">\n",
              "  <thead>\n",
              "    <tr style=\"text-align: right;\">\n",
              "      <th></th>\n",
              "      <th>Year_Birth</th>\n",
              "      <th>Income</th>\n",
              "      <th>Dt_Customer</th>\n",
              "      <th>Recency</th>\n",
              "      <th>MntWines</th>\n",
              "      <th>MntFruits</th>\n",
              "      <th>MntMeatProducts</th>\n",
              "      <th>MntFishProducts</th>\n",
              "      <th>MntSweetProducts</th>\n",
              "      <th>MntGoldProds</th>\n",
              "      <th>NumDealsPurchases</th>\n",
              "      <th>NumWebPurchases</th>\n",
              "      <th>NumCatalogPurchases</th>\n",
              "      <th>NumStorePurchases</th>\n",
              "      <th>NumWebVisitsMonth</th>\n",
              "    </tr>\n",
              "  </thead>\n",
              "  <tbody>\n",
              "    <tr>\n",
              "      <th>0</th>\n",
              "      <td>1970</td>\n",
              "      <td>84835.0</td>\n",
              "      <td>2014-06-16</td>\n",
              "      <td>0</td>\n",
              "      <td>189</td>\n",
              "      <td>104</td>\n",
              "      <td>379</td>\n",
              "      <td>111</td>\n",
              "      <td>189</td>\n",
              "      <td>218</td>\n",
              "      <td>1</td>\n",
              "      <td>4</td>\n",
              "      <td>4</td>\n",
              "      <td>6</td>\n",
              "      <td>1</td>\n",
              "    </tr>\n",
              "    <tr>\n",
              "      <th>1</th>\n",
              "      <td>1961</td>\n",
              "      <td>57091.0</td>\n",
              "      <td>2014-06-15</td>\n",
              "      <td>0</td>\n",
              "      <td>464</td>\n",
              "      <td>5</td>\n",
              "      <td>64</td>\n",
              "      <td>7</td>\n",
              "      <td>0</td>\n",
              "      <td>37</td>\n",
              "      <td>1</td>\n",
              "      <td>7</td>\n",
              "      <td>3</td>\n",
              "      <td>7</td>\n",
              "      <td>5</td>\n",
              "    </tr>\n",
              "    <tr>\n",
              "      <th>2</th>\n",
              "      <td>1958</td>\n",
              "      <td>67267.0</td>\n",
              "      <td>2014-05-13</td>\n",
              "      <td>0</td>\n",
              "      <td>134</td>\n",
              "      <td>11</td>\n",
              "      <td>59</td>\n",
              "      <td>15</td>\n",
              "      <td>2</td>\n",
              "      <td>30</td>\n",
              "      <td>1</td>\n",
              "      <td>3</td>\n",
              "      <td>2</td>\n",
              "      <td>5</td>\n",
              "      <td>2</td>\n",
              "    </tr>\n",
              "    <tr>\n",
              "      <th>3</th>\n",
              "      <td>1967</td>\n",
              "      <td>32474.0</td>\n",
              "      <td>2014-05-11</td>\n",
              "      <td>0</td>\n",
              "      <td>10</td>\n",
              "      <td>0</td>\n",
              "      <td>1</td>\n",
              "      <td>0</td>\n",
              "      <td>0</td>\n",
              "      <td>0</td>\n",
              "      <td>1</td>\n",
              "      <td>1</td>\n",
              "      <td>0</td>\n",
              "      <td>2</td>\n",
              "      <td>7</td>\n",
              "    </tr>\n",
              "    <tr>\n",
              "      <th>4</th>\n",
              "      <td>1989</td>\n",
              "      <td>21474.0</td>\n",
              "      <td>2014-04-08</td>\n",
              "      <td>0</td>\n",
              "      <td>6</td>\n",
              "      <td>16</td>\n",
              "      <td>24</td>\n",
              "      <td>11</td>\n",
              "      <td>0</td>\n",
              "      <td>34</td>\n",
              "      <td>2</td>\n",
              "      <td>3</td>\n",
              "      <td>1</td>\n",
              "      <td>2</td>\n",
              "      <td>7</td>\n",
              "    </tr>\n",
              "  </tbody>\n",
              "</table>\n",
              "</div>"
            ],
            "text/plain": [
              "   Year_Birth   Income  ... NumStorePurchases  NumWebVisitsMonth\n",
              "0        1970  84835.0  ...                 6                  1\n",
              "1        1961  57091.0  ...                 7                  5\n",
              "2        1958  67267.0  ...                 5                  2\n",
              "3        1967  32474.0  ...                 2                  7\n",
              "4        1989  21474.0  ...                 2                  7\n",
              "\n",
              "[5 rows x 15 columns]"
            ]
          },
          "metadata": {},
          "execution_count": 29
        }
      ]
    },
    {
      "cell_type": "markdown",
      "metadata": {
        "id": "KoH8BEUwVUgp"
      },
      "source": [
        "# **Analisis Data Numerical**"
      ]
    },
    {
      "cell_type": "code",
      "metadata": {
        "colab": {
          "base_uri": "https://localhost:8080/",
          "height": 317
        },
        "id": "MvSoGx7UU274",
        "outputId": "2f5fb1c2-e725-45bc-f7be-52c1decd4005"
      },
      "source": [
        "df_num.describe()"
      ],
      "execution_count": 30,
      "outputs": [
        {
          "output_type": "execute_result",
          "data": {
            "text/html": [
              "<div>\n",
              "<style scoped>\n",
              "    .dataframe tbody tr th:only-of-type {\n",
              "        vertical-align: middle;\n",
              "    }\n",
              "\n",
              "    .dataframe tbody tr th {\n",
              "        vertical-align: top;\n",
              "    }\n",
              "\n",
              "    .dataframe thead th {\n",
              "        text-align: right;\n",
              "    }\n",
              "</style>\n",
              "<table border=\"1\" class=\"dataframe\">\n",
              "  <thead>\n",
              "    <tr style=\"text-align: right;\">\n",
              "      <th></th>\n",
              "      <th>Year_Birth</th>\n",
              "      <th>Income</th>\n",
              "      <th>Recency</th>\n",
              "      <th>MntWines</th>\n",
              "      <th>MntFruits</th>\n",
              "      <th>MntMeatProducts</th>\n",
              "      <th>MntFishProducts</th>\n",
              "      <th>MntSweetProducts</th>\n",
              "      <th>MntGoldProds</th>\n",
              "      <th>NumDealsPurchases</th>\n",
              "      <th>NumWebPurchases</th>\n",
              "      <th>NumCatalogPurchases</th>\n",
              "      <th>NumStorePurchases</th>\n",
              "      <th>NumWebVisitsMonth</th>\n",
              "    </tr>\n",
              "  </thead>\n",
              "  <tbody>\n",
              "    <tr>\n",
              "      <th>count</th>\n",
              "      <td>2240.000000</td>\n",
              "      <td>2240.000000</td>\n",
              "      <td>2240.000000</td>\n",
              "      <td>2240.000000</td>\n",
              "      <td>2240.000000</td>\n",
              "      <td>2240.000000</td>\n",
              "      <td>2240.000000</td>\n",
              "      <td>2240.000000</td>\n",
              "      <td>2240.000000</td>\n",
              "      <td>2240.000000</td>\n",
              "      <td>2240.000000</td>\n",
              "      <td>2240.000000</td>\n",
              "      <td>2240.000000</td>\n",
              "      <td>2240.000000</td>\n",
              "    </tr>\n",
              "    <tr>\n",
              "      <th>mean</th>\n",
              "      <td>1968.805804</td>\n",
              "      <td>52237.975446</td>\n",
              "      <td>49.109375</td>\n",
              "      <td>303.935714</td>\n",
              "      <td>26.302232</td>\n",
              "      <td>166.950000</td>\n",
              "      <td>37.525446</td>\n",
              "      <td>27.062946</td>\n",
              "      <td>44.021875</td>\n",
              "      <td>2.325000</td>\n",
              "      <td>4.084821</td>\n",
              "      <td>2.662054</td>\n",
              "      <td>5.790179</td>\n",
              "      <td>5.316518</td>\n",
              "    </tr>\n",
              "    <tr>\n",
              "      <th>std</th>\n",
              "      <td>11.984069</td>\n",
              "      <td>25037.955891</td>\n",
              "      <td>28.962453</td>\n",
              "      <td>336.597393</td>\n",
              "      <td>39.773434</td>\n",
              "      <td>225.715373</td>\n",
              "      <td>54.628979</td>\n",
              "      <td>41.280498</td>\n",
              "      <td>52.167439</td>\n",
              "      <td>1.932238</td>\n",
              "      <td>2.778714</td>\n",
              "      <td>2.923101</td>\n",
              "      <td>3.250958</td>\n",
              "      <td>2.426645</td>\n",
              "    </tr>\n",
              "    <tr>\n",
              "      <th>min</th>\n",
              "      <td>1893.000000</td>\n",
              "      <td>1730.000000</td>\n",
              "      <td>0.000000</td>\n",
              "      <td>0.000000</td>\n",
              "      <td>0.000000</td>\n",
              "      <td>0.000000</td>\n",
              "      <td>0.000000</td>\n",
              "      <td>0.000000</td>\n",
              "      <td>0.000000</td>\n",
              "      <td>0.000000</td>\n",
              "      <td>0.000000</td>\n",
              "      <td>0.000000</td>\n",
              "      <td>0.000000</td>\n",
              "      <td>0.000000</td>\n",
              "    </tr>\n",
              "    <tr>\n",
              "      <th>25%</th>\n",
              "      <td>1959.000000</td>\n",
              "      <td>35538.750000</td>\n",
              "      <td>24.000000</td>\n",
              "      <td>23.750000</td>\n",
              "      <td>1.000000</td>\n",
              "      <td>16.000000</td>\n",
              "      <td>3.000000</td>\n",
              "      <td>1.000000</td>\n",
              "      <td>9.000000</td>\n",
              "      <td>1.000000</td>\n",
              "      <td>2.000000</td>\n",
              "      <td>0.000000</td>\n",
              "      <td>3.000000</td>\n",
              "      <td>3.000000</td>\n",
              "    </tr>\n",
              "    <tr>\n",
              "      <th>50%</th>\n",
              "      <td>1970.000000</td>\n",
              "      <td>51381.500000</td>\n",
              "      <td>49.000000</td>\n",
              "      <td>173.500000</td>\n",
              "      <td>8.000000</td>\n",
              "      <td>67.000000</td>\n",
              "      <td>12.000000</td>\n",
              "      <td>8.000000</td>\n",
              "      <td>24.000000</td>\n",
              "      <td>2.000000</td>\n",
              "      <td>4.000000</td>\n",
              "      <td>2.000000</td>\n",
              "      <td>5.000000</td>\n",
              "      <td>6.000000</td>\n",
              "    </tr>\n",
              "    <tr>\n",
              "      <th>75%</th>\n",
              "      <td>1977.000000</td>\n",
              "      <td>68289.750000</td>\n",
              "      <td>74.000000</td>\n",
              "      <td>504.250000</td>\n",
              "      <td>33.000000</td>\n",
              "      <td>232.000000</td>\n",
              "      <td>50.000000</td>\n",
              "      <td>33.000000</td>\n",
              "      <td>56.000000</td>\n",
              "      <td>3.000000</td>\n",
              "      <td>6.000000</td>\n",
              "      <td>4.000000</td>\n",
              "      <td>8.000000</td>\n",
              "      <td>7.000000</td>\n",
              "    </tr>\n",
              "    <tr>\n",
              "      <th>max</th>\n",
              "      <td>1996.000000</td>\n",
              "      <td>666666.000000</td>\n",
              "      <td>99.000000</td>\n",
              "      <td>1493.000000</td>\n",
              "      <td>199.000000</td>\n",
              "      <td>1725.000000</td>\n",
              "      <td>259.000000</td>\n",
              "      <td>263.000000</td>\n",
              "      <td>362.000000</td>\n",
              "      <td>15.000000</td>\n",
              "      <td>27.000000</td>\n",
              "      <td>28.000000</td>\n",
              "      <td>13.000000</td>\n",
              "      <td>20.000000</td>\n",
              "    </tr>\n",
              "  </tbody>\n",
              "</table>\n",
              "</div>"
            ],
            "text/plain": [
              "        Year_Birth         Income  ...  NumStorePurchases  NumWebVisitsMonth\n",
              "count  2240.000000    2240.000000  ...        2240.000000        2240.000000\n",
              "mean   1968.805804   52237.975446  ...           5.790179           5.316518\n",
              "std      11.984069   25037.955891  ...           3.250958           2.426645\n",
              "min    1893.000000    1730.000000  ...           0.000000           0.000000\n",
              "25%    1959.000000   35538.750000  ...           3.000000           3.000000\n",
              "50%    1970.000000   51381.500000  ...           5.000000           6.000000\n",
              "75%    1977.000000   68289.750000  ...           8.000000           7.000000\n",
              "max    1996.000000  666666.000000  ...          13.000000          20.000000\n",
              "\n",
              "[8 rows x 14 columns]"
            ]
          },
          "metadata": {},
          "execution_count": 30
        }
      ]
    },
    {
      "cell_type": "code",
      "metadata": {
        "id": "SvufQlX5Wxmb"
      },
      "source": [
        "df_num = df_num.drop(['Dt_Customer'], axis=1)"
      ],
      "execution_count": 31,
      "outputs": []
    },
    {
      "cell_type": "markdown",
      "metadata": {
        "id": "eyDKbXKPV3Na"
      },
      "source": [
        "**Outlier**"
      ]
    },
    {
      "cell_type": "code",
      "metadata": {
        "colab": {
          "base_uri": "https://localhost:8080/",
          "height": 497
        },
        "id": "n5TrHC7FVdFT",
        "outputId": "99fdcf5e-b881-40ce-bfb3-60564b506a1e"
      },
      "source": [
        "# pembuatan boxplot untuk tiap-tiap variabel pada data numerical\n",
        "df_num.plot(subplots=True, layout=(5,5), kind='box',patch_artist=True, figsize=(12,14))\n",
        "plt.subplots_adjust(wspace=0.5);"
      ],
      "execution_count": 74,
      "outputs": [
        {
          "output_type": "display_data",
          "data": {
            "image/png": "[encoded data removed]",
            "text/plain": [
              "<Figure size 864x1008 with 25 Axes>"
            ]
          },
          "metadata": {
            "needs_background": "light"
          }
        }
      ]
    },
    {
      "cell_type": "markdown",
      "metadata": {
        "id": "ZIUE1VpzWGLy"
      },
      "source": [
        "Ada dua hal yang menarik pada pengecekan outlier.\n",
        "1. Ada beberapa customer yang lahir dibawah tahun 1900? Mereka berumur 100 tahun lebih, tidak masuk akal. Untuk kasus ini kita akan menghilangkan data dengan tahun kelahiran lebih dari 1900.\n",
        "2. Ada customer dengan pendapatan lebih dari 600000 dolar. Either dia sangat kaya atau salah memasukkan data. Untuk kasus ini data kita ubah dengan menjadikan nilainya menjadi median dari 'Income' karena dapat mengganggu proses analisis kedepannya."
      ]
    },
    {
      "cell_type": "code",
      "metadata": {
        "id": "siYNL8XAVpKv"
      },
      "source": [
        "# menghapus data yang berkelahiran dibawah 1900\n",
        "df_num = df_num[df_num['Year_Birth'] > 1900].reset_index(drop=True)\n",
        "\n",
        "# menghapus data yang memiliki income diatas 600000\n",
        "df_num.loc[df_num.Income > 600000,'Income'] = med_income"
      ],
      "execution_count": 75,
      "outputs": []
    },
    {
      "cell_type": "markdown",
      "metadata": {
        "id": "E_XfGLp1WhBU"
      },
      "source": [
        "**Distribution**"
      ]
    },
    {
      "cell_type": "code",
      "metadata": {
        "colab": {
          "base_uri": "https://localhost:8080/",
          "height": 746
        },
        "id": "2q6EqnvVWQ8b",
        "outputId": "d7fe42c2-ebce-4bb4-a1d8-3ab4625da9c9"
      },
      "source": [
        "# pembuatan histogram untuk tiap variabel pada data numerical\n",
        "plt.figure(figsize=(5,3))\n",
        "df_num.hist(figsize = (15,10))\n",
        "plt.tight_layout()"
      ],
      "execution_count": 76,
      "outputs": [
        {
          "output_type": "display_data",
          "data": {
            "text/plain": [
              "<Figure size 360x216 with 0 Axes>"
            ]
          },
          "metadata": {}
        },
        {
          "output_type": "display_data",
          "data": {
            "image/png": "[encoded data removed]",
            "text/plain": [
              "<Figure size 1080x720 with 16 Axes>"
            ]
          },
          "metadata": {
            "needs_background": "light"
          }
        }
      ]
    },
    {
      "cell_type": "markdown",
      "metadata": {
        "id": "AabeBE2LY25H"
      },
      "source": [
        "Dari Histogram didapatkan insight bahwa customer kebanyakan memiliki pendapatan yang kurang dari $100000 pertahun. Dan ber tahun kelahiran di bawah 1990."
      ]
    },
    {
      "cell_type": "markdown",
      "metadata": {
        "id": "OIazxRgUac9D"
      },
      "source": [
        "**Correlation**"
      ]
    },
    {
      "cell_type": "code",
      "metadata": {
        "colab": {
          "base_uri": "https://localhost:8080/",
          "height": 715
        },
        "id": "tkPrcgxbWmdz",
        "outputId": "f41969a3-0b3c-4743-88aa-da7ffc4517da"
      },
      "source": [
        "# pembuatan heatmap\n",
        "plt.figure(figsize=(15,10))\n",
        "sns.heatmap(df_num.corr(),annot=True)"
      ],
      "execution_count": 77,
      "outputs": [
        {
          "output_type": "execute_result",
          "data": {
            "text/plain": [
              "<matplotlib.axes._subplots.AxesSubplot at 0x7f49df9f7b90>"
            ]
          },
          "metadata": {},
          "execution_count": 77
        },
        {
          "output_type": "display_data",
          "data": {
            "image/png": "[encoded data removed]",
            "text/plain": [
              "<Figure size 1080x720 with 2 Axes>"
            ]
          },
          "metadata": {
            "needs_background": "light"
          }
        }
      ]
    },
    {
      "cell_type": "markdown",
      "metadata": {
        "id": "0mniaoP1d-kR"
      },
      "source": [
        "1. 'Income' memiliki korelasi positif yang kuat dengan 'Purchase' dan 'Amount Spent'. Dan memiliki korelasi negatif yang kuat 'NumWebVisistsMonth'. Yang berarti orang-orang dengan income tinggi jarang mengunjungi website.\n",
        "2. 'NumWebVisitsMonth' umumnya berkorelasi yang rendah dengan variabel lain, kecuali dengan 'NumDealsPurchases'. Yang berarti kebanyakan orang-orang mengunjungi website untuk melakukan pembelian dengan diskon.\n",
        "3. Ternyata 'NumWebVisitsMonth' memiliki korelasi yang lemah dengan 'NumWebPurchases', yang berarti tidak semua orang-orang yang mengunjungi website berbelanja lewat website.\n",
        "4. Tingginya korelasi 'NumStorePurchases' dengan 'MintWines' mengindikasikan orang-orang umumnya berbelanja Wine di toko.\n",
        "5. Tingginya korelasi 'NumCatalogPurchases' dengan 'MintWines' dan 'MintMeatProdicts' mengindikasikan umumnya orang-orang berbelanja Wine dan Daging melalui katalog."
      ]
    },
    {
      "cell_type": "markdown",
      "metadata": {
        "id": "RkNxhWCOg32h"
      },
      "source": [
        "#**Analisis Data Categorical**"
      ]
    },
    {
      "cell_type": "code",
      "metadata": {
        "colab": {
          "base_uri": "https://localhost:8080/",
          "height": 204
        },
        "id": "D1gbcecGamCM",
        "outputId": "e84b8599-b415-48ba-f340-8aad63257a28"
      },
      "source": [
        "df_cat.head()"
      ],
      "execution_count": 51,
      "outputs": [
        {
          "output_type": "execute_result",
          "data": {
            "text/html": [
              "<div>\n",
              "<style scoped>\n",
              "    .dataframe tbody tr th:only-of-type {\n",
              "        vertical-align: middle;\n",
              "    }\n",
              "\n",
              "    .dataframe tbody tr th {\n",
              "        vertical-align: top;\n",
              "    }\n",
              "\n",
              "    .dataframe thead th {\n",
              "        text-align: right;\n",
              "    }\n",
              "</style>\n",
              "<table border=\"1\" class=\"dataframe\">\n",
              "  <thead>\n",
              "    <tr style=\"text-align: right;\">\n",
              "      <th></th>\n",
              "      <th>Education</th>\n",
              "      <th>Marital_Status</th>\n",
              "      <th>Country</th>\n",
              "    </tr>\n",
              "  </thead>\n",
              "  <tbody>\n",
              "    <tr>\n",
              "      <th>0</th>\n",
              "      <td>Graduation</td>\n",
              "      <td>Divorced</td>\n",
              "      <td>SP</td>\n",
              "    </tr>\n",
              "    <tr>\n",
              "      <th>1</th>\n",
              "      <td>Graduation</td>\n",
              "      <td>Single</td>\n",
              "      <td>CA</td>\n",
              "    </tr>\n",
              "    <tr>\n",
              "      <th>2</th>\n",
              "      <td>Graduation</td>\n",
              "      <td>Married</td>\n",
              "      <td>US</td>\n",
              "    </tr>\n",
              "    <tr>\n",
              "      <th>3</th>\n",
              "      <td>Graduation</td>\n",
              "      <td>Together</td>\n",
              "      <td>AUS</td>\n",
              "    </tr>\n",
              "    <tr>\n",
              "      <th>4</th>\n",
              "      <td>Graduation</td>\n",
              "      <td>Single</td>\n",
              "      <td>SP</td>\n",
              "    </tr>\n",
              "  </tbody>\n",
              "</table>\n",
              "</div>"
            ],
            "text/plain": [
              "    Education Marital_Status Country\n",
              "0  Graduation       Divorced      SP\n",
              "1  Graduation         Single      CA\n",
              "2  Graduation        Married      US\n",
              "3  Graduation       Together     AUS\n",
              "4  Graduation         Single      SP"
            ]
          },
          "metadata": {},
          "execution_count": 51
        }
      ]
    },
    {
      "cell_type": "markdown",
      "metadata": {
        "id": "wiXfNfMkhWnz"
      },
      "source": [
        "**Education**"
      ]
    },
    {
      "cell_type": "code",
      "metadata": {
        "colab": {
          "base_uri": "https://localhost:8080/",
          "height": 296
        },
        "id": "B2MsZUHEhHO-",
        "outputId": "f266a1c4-cf9d-4ae0-e00d-780e5cb2337d"
      },
      "source": [
        "# pembuatan bar chart pendidikan customer\n",
        "sns.countplot(x = 'Education',\n",
        "              data = df_cat,\n",
        "              order = df_cat['Education'].value_counts().index)"
      ],
      "execution_count": 78,
      "outputs": [
        {
          "output_type": "execute_result",
          "data": {
            "text/plain": [
              "<matplotlib.axes._subplots.AxesSubplot at 0x7f49dec70fd0>"
            ]
          },
          "metadata": {},
          "execution_count": 78
        },
        {
          "output_type": "display_data",
          "data": {
            "image/png": "[encoded data removed]",
            "text/plain": [
              "<Figure size 432x288 with 1 Axes>"
            ]
          },
          "metadata": {
            "needs_background": "light"
          }
        }
      ]
    },
    {
      "cell_type": "markdown",
      "metadata": {
        "id": "hDwPnO8YhYii"
      },
      "source": [
        "Dari grafik dapat dilihat customer terbanyak pada jenjang pendidikan 'Graduation', diikuti 'PhD' dan 'Master Education'"
      ]
    },
    {
      "cell_type": "markdown",
      "metadata": {
        "id": "42vg_fCch5iz"
      },
      "source": [
        "**Marital Status**"
      ]
    },
    {
      "cell_type": "code",
      "metadata": {
        "colab": {
          "base_uri": "https://localhost:8080/",
          "height": 297
        },
        "id": "0d4rwNpuhzPj",
        "outputId": "ca995e4e-1187-4f16-8a44-819b5070627d"
      },
      "source": [
        "# pembuatan bar chart status perkawinan customer\n",
        "sns.countplot(x = 'Marital_Status',\n",
        "              data = df_cat,\n",
        "              order = df_cat['Marital_Status'].value_counts().index)"
      ],
      "execution_count": 79,
      "outputs": [
        {
          "output_type": "execute_result",
          "data": {
            "text/plain": [
              "<matplotlib.axes._subplots.AxesSubplot at 0x7f49de5dc610>"
            ]
          },
          "metadata": {},
          "execution_count": 79
        },
        {
          "output_type": "display_data",
          "data": {
            "image/png": "[encoded data removed]",
            "text/plain": [
              "<Figure size 432x288 with 1 Axes>"
            ]
          },
          "metadata": {
            "needs_background": "light"
          }
        }
      ]
    },
    {
      "cell_type": "markdown",
      "metadata": {
        "id": "FgTrmstZiIzi"
      },
      "source": [
        "Berdasarkan grafik didapatkan bahwa customer merupakan orang-orang berstatus 'Married', diikuti 'Together' dan 'Single'"
      ]
    },
    {
      "cell_type": "markdown",
      "metadata": {
        "id": "h4pyy9mMiUT3"
      },
      "source": [
        "**Country**"
      ]
    },
    {
      "cell_type": "code",
      "metadata": {
        "colab": {
          "base_uri": "https://localhost:8080/",
          "height": 296
        },
        "id": "Ie9TShdniAIM",
        "outputId": "cce5da4e-4497-4636-95b9-928eb1320919"
      },
      "source": [
        "# pembuatan bar chart asal negara customer\n",
        "sns.countplot(x = 'Country',\n",
        "              data = df_cat,\n",
        "              order = df_cat['Country'].value_counts().index)"
      ],
      "execution_count": 80,
      "outputs": [
        {
          "output_type": "execute_result",
          "data": {
            "text/plain": [
              "<matplotlib.axes._subplots.AxesSubplot at 0x7f49dedcd550>"
            ]
          },
          "metadata": {},
          "execution_count": 80
        },
        {
          "output_type": "display_data",
          "data": {
            "image/png": "[encoded data removed]",
            "text/plain": [
              "<Figure size 432x288 with 1 Axes>"
            ]
          },
          "metadata": {
            "needs_background": "light"
          }
        }
      ]
    },
    {
      "cell_type": "markdown",
      "metadata": {
        "id": "88GwCSxFjMnM"
      },
      "source": [
        "Dapat dilihat spanyol menjadi negara terbanyak yang melakukan transaksi."
      ]
    },
    {
      "cell_type": "markdown",
      "metadata": {
        "id": "t16OrJ-WkiCy"
      },
      "source": [
        "# **Lanjutan**"
      ]
    },
    {
      "cell_type": "markdown",
      "metadata": {
        "id": "uiKPkskVlO3W"
      },
      "source": [
        "**Rata-rata demografi customer**"
      ]
    },
    {
      "cell_type": "code",
      "metadata": {
        "colab": {
          "base_uri": "https://localhost:8080/",
          "height": 227
        },
        "id": "0E4MgtGpiX8J",
        "outputId": "76ead659-8b71-4882-c170-ba0a7a682da4"
      },
      "source": [
        "# menetapkan kolom 'Amount Spent' dengan kolom yang mengandung 'Mnt'\n",
        "mnt_cols = [col for col in df.columns if 'Mnt' in col]\n",
        "# menetapkan kolom 'Purchases' dengan kolom yang mengandung 'Purchases'\n",
        "purchases_cols = [col for col in df.columns if 'Purchases' in col]\n",
        "\n",
        "# pembuatan demografi dengan mengambil rata-rata pada tiap kolom\n",
        "demographics = pd.DataFrame(round(df.drop(columns=mnt_cols+purchases_cols).mean(), 1), columns=['Average']).reindex([\n",
        "    'Year_Birth','Income', 'Kidhome', 'Teenhome'])\n",
        "\n",
        "demographics"
      ],
      "execution_count": 81,
      "outputs": [
        {
          "output_type": "stream",
          "name": "stderr",
          "text": [
            "/usr/local/lib/python3.7/dist-packages/ipykernel_launcher.py:7: FutureWarning: DataFrame.mean and DataFrame.median with numeric_only=None will include datetime64 and datetime64tz columns in a future version.\n",
            "  import sys\n"
          ]
        },
        {
          "output_type": "execute_result",
          "data": {
            "text/html": [
              "<div>\n",
              "<style scoped>\n",
              "    .dataframe tbody tr th:only-of-type {\n",
              "        vertical-align: middle;\n",
              "    }\n",
              "\n",
              "    .dataframe tbody tr th {\n",
              "        vertical-align: top;\n",
              "    }\n",
              "\n",
              "    .dataframe thead th {\n",
              "        text-align: right;\n",
              "    }\n",
              "</style>\n",
              "<table border=\"1\" class=\"dataframe\">\n",
              "  <thead>\n",
              "    <tr style=\"text-align: right;\">\n",
              "      <th></th>\n",
              "      <th>Average</th>\n",
              "    </tr>\n",
              "  </thead>\n",
              "  <tbody>\n",
              "    <tr>\n",
              "      <th>Year_Birth</th>\n",
              "      <td>1968.8</td>\n",
              "    </tr>\n",
              "    <tr>\n",
              "      <th>Income</th>\n",
              "      <td>52238.0</td>\n",
              "    </tr>\n",
              "    <tr>\n",
              "      <th>Kidhome</th>\n",
              "      <td>0.4</td>\n",
              "    </tr>\n",
              "    <tr>\n",
              "      <th>Teenhome</th>\n",
              "      <td>0.5</td>\n",
              "    </tr>\n",
              "  </tbody>\n",
              "</table>\n",
              "</div>"
            ],
            "text/plain": [
              "            Average\n",
              "Year_Birth   1968.8\n",
              "Income      52238.0\n",
              "Kidhome         0.4\n",
              "Teenhome        0.5"
            ]
          },
          "metadata": {},
          "execution_count": 81
        }
      ]
    },
    {
      "cell_type": "markdown",
      "metadata": {
        "id": "TpHwCRe-mXyR"
      },
      "source": [
        "**Rata-rata pengeluaran customer tiap produk**"
      ]
    },
    {
      "cell_type": "code",
      "metadata": {
        "colab": {
          "base_uri": "https://localhost:8080/",
          "height": 279
        },
        "id": "Coj-HsIKldFv",
        "outputId": "d1851988-dd2c-41f4-9b6c-a68b32f1ab9b"
      },
      "source": [
        "# pembuatan variabel spending dengan mengambil rata-rata pada tiap kolom 'Amount Spent'\n",
        "spending = pd.DataFrame(round(df[mnt_cols].mean(), 1), columns=['Average']).sort_values(by='Average').reset_index()\n",
        "\n",
        "ax = sns.barplot(x='Average', y='index', data=spending, palette='Greens')\n",
        "plt.ylabel('Amount spent')\n",
        "\n",
        "for p,q in zip(ax.patches, spending['Average']):\n",
        "    ax.text(x=q+40,\n",
        "            y=p.get_y()+0.5,\n",
        "            s=q,\n",
        "            ha=\"center\") ;"
      ],
      "execution_count": 87,
      "outputs": [
        {
          "output_type": "display_data",
          "data": {
            "image/png": "[encoded data removed]",
            "text/plain": [
              "<Figure size 432x288 with 1 Axes>"
            ]
          },
          "metadata": {
            "needs_background": "light"
          }
        }
      ]
    },
    {
      "cell_type": "markdown",
      "metadata": {
        "id": "7bCYJUTPmt1_"
      },
      "source": [
        "'Wine' dan 'Meat' menjadi produk berperforma paling baik."
      ]
    },
    {
      "cell_type": "markdown",
      "metadata": {
        "id": "KgQaaiitnUGZ"
      },
      "source": [
        "**Media penjualan terbaik**"
      ]
    },
    {
      "cell_type": "code",
      "metadata": {
        "colab": {
          "base_uri": "https://localhost:8080/",
          "height": 279
        },
        "id": "h_zhDmSKnTZX",
        "outputId": "77547cc1-c8a3-40b2-d310-54121f65c48b"
      },
      "source": [
        "# pembuatan variabel media dengan mengambil rata-rata pada tiap kolom 'Purchases'\n",
        "media = pd.DataFrame(round(df[purchases_cols].mean(), 1), columns=['Average']).sort_values(by='Average').reset_index()\n",
        "\n",
        "ax = sns.barplot(x='Average', y='index', data=media, palette='Greens')\n",
        "plt.ylabel('Media')\n",
        "\n",
        "for p,q in zip(ax.patches, media['Average']):\n",
        "    ax.text(x=q+0.8,\n",
        "            y=p.get_y()+0.5,\n",
        "            s=q,\n",
        "            ha=\"center\") ;"
      ],
      "execution_count": 88,
      "outputs": [
        {
          "output_type": "display_data",
          "data": {
            "image/png": "[encoded data removed]",
            "text/plain": [
              "<Figure size 432x288 with 1 Axes>"
            ]
          },
          "metadata": {
            "needs_background": "light"
          }
        }
      ]
    },
    {
      "cell_type": "markdown",
      "metadata": {
        "id": "EKzgyky0oKsH"
      },
      "source": [
        "Penjualan terbaik didapat melalui Toko dan diikuti oleh Website"
      ]
    },
    {
      "cell_type": "code",
      "metadata": {
        "id": "4joq3WlUrcpE"
      },
      "source": [
        ""
      ],
      "execution_count": null,
      "outputs": []
    }
  ]
}